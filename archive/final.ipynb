{
 "cells": [
  {
   "cell_type": "code",
   "execution_count": 10,
   "metadata": {},
   "outputs": [],
   "source": [
    "import numpy as np\n",
    "import pandas as df\n",
    "import pandas as pd\n",
    "import matplotlib.pyplot as plt\n",
    "#import seaborn as sns\n",
    "#import plotly.express as px\n",
    "from sklearn.metrics import confusion_matrix, classification_report\n",
    "import tensorflow as tf\n",
    "from pathlib import Path\n",
    "from sklearn.model_selection import train_test_split\n",
    "\n",
    "positive_dir = Path('/Users/laura/Downloads/concerete_crack_images/training/Positive/')\n",
    "negative_dir = Path('/Users/laura/Downloads/concerete_crack_images/training/Negative/')\n",
    "test_data = Path('/Users/laura/Downloads/concerete_crack_images/testing/')"
   ]
  },
  {
   "cell_type": "code",
   "execution_count": 11,
   "metadata": {},
   "outputs": [],
   "source": [
    "import numpy as np\n",
    "import pandas as df\n",
    "import pandas as pd\n",
    "import matplotlib.pyplot as plt\n",
    "#import seaborn as sns\n",
    "#import plotly.express as px\n",
    "from sklearn.metrics import confusion_matrix, classification_report\n",
    "import tensorflow as tf\n",
    "from pathlib import Path\n",
    "from sklearn.model_selection import train_test_split\n",
    "\n",
    "positive_dir = Path('/Users/laura/Downloads/concerete_crack_images/training/Positive/')\n",
    "negative_dir = Path('/Users/laura/Downloads/concerete_crack_images/training/Negative/')"
   ]
  },
  {
   "cell_type": "code",
   "execution_count": 12,
   "metadata": {},
   "outputs": [],
   "source": [
    "def generate_df(image_dir, label):\n",
    "    filepaths = pd.Series(list(image_dir.glob(r'*.jpg')), name='Filepath').astype(str)\n",
    "    labels = pd.Series(label, name='Label', index=filepaths.index)\n",
    "    df = pd.concat([filepaths, labels], axis=1)\n",
    "    return df\n"
   ]
  },
  {
   "cell_type": "code",
   "execution_count": 13,
   "metadata": {},
   "outputs": [
    {
     "data": {
      "text/html": [
       "<div>\n",
       "<style scoped>\n",
       "    .dataframe tbody tr th:only-of-type {\n",
       "        vertical-align: middle;\n",
       "    }\n",
       "\n",
       "    .dataframe tbody tr th {\n",
       "        vertical-align: top;\n",
       "    }\n",
       "\n",
       "    .dataframe thead th {\n",
       "        text-align: right;\n",
       "    }\n",
       "</style>\n",
       "<table border=\"1\" class=\"dataframe\">\n",
       "  <thead>\n",
       "    <tr style=\"text-align: right;\">\n",
       "      <th></th>\n",
       "      <th>Filepath</th>\n",
       "      <th>Label</th>\n",
       "    </tr>\n",
       "  </thead>\n",
       "  <tbody>\n",
       "    <tr>\n",
       "      <th>0</th>\n",
       "      <td>/Users/laura/Downloads/concerete_crack_images/...</td>\n",
       "      <td>NEGATIVE</td>\n",
       "    </tr>\n",
       "    <tr>\n",
       "      <th>1</th>\n",
       "      <td>/Users/laura/Downloads/concerete_crack_images/...</td>\n",
       "      <td>POSITIVE</td>\n",
       "    </tr>\n",
       "    <tr>\n",
       "      <th>2</th>\n",
       "      <td>/Users/laura/Downloads/concerete_crack_images/...</td>\n",
       "      <td>POSITIVE</td>\n",
       "    </tr>\n",
       "    <tr>\n",
       "      <th>3</th>\n",
       "      <td>/Users/laura/Downloads/concerete_crack_images/...</td>\n",
       "      <td>NEGATIVE</td>\n",
       "    </tr>\n",
       "    <tr>\n",
       "      <th>4</th>\n",
       "      <td>/Users/laura/Downloads/concerete_crack_images/...</td>\n",
       "      <td>NEGATIVE</td>\n",
       "    </tr>\n",
       "    <tr>\n",
       "      <th>...</th>\n",
       "      <td>...</td>\n",
       "      <td>...</td>\n",
       "    </tr>\n",
       "    <tr>\n",
       "      <th>32102</th>\n",
       "      <td>/Users/laura/Downloads/concerete_crack_images/...</td>\n",
       "      <td>NEGATIVE</td>\n",
       "    </tr>\n",
       "    <tr>\n",
       "      <th>32103</th>\n",
       "      <td>/Users/laura/Downloads/concerete_crack_images/...</td>\n",
       "      <td>POSITIVE</td>\n",
       "    </tr>\n",
       "    <tr>\n",
       "      <th>32104</th>\n",
       "      <td>/Users/laura/Downloads/concerete_crack_images/...</td>\n",
       "      <td>POSITIVE</td>\n",
       "    </tr>\n",
       "    <tr>\n",
       "      <th>32105</th>\n",
       "      <td>/Users/laura/Downloads/concerete_crack_images/...</td>\n",
       "      <td>POSITIVE</td>\n",
       "    </tr>\n",
       "    <tr>\n",
       "      <th>32106</th>\n",
       "      <td>/Users/laura/Downloads/concerete_crack_images/...</td>\n",
       "      <td>NEGATIVE</td>\n",
       "    </tr>\n",
       "  </tbody>\n",
       "</table>\n",
       "<p>32107 rows × 2 columns</p>\n",
       "</div>"
      ],
      "text/plain": [
       "                                                Filepath     Label\n",
       "0      /Users/laura/Downloads/concerete_crack_images/...  NEGATIVE\n",
       "1      /Users/laura/Downloads/concerete_crack_images/...  POSITIVE\n",
       "2      /Users/laura/Downloads/concerete_crack_images/...  POSITIVE\n",
       "3      /Users/laura/Downloads/concerete_crack_images/...  NEGATIVE\n",
       "4      /Users/laura/Downloads/concerete_crack_images/...  NEGATIVE\n",
       "...                                                  ...       ...\n",
       "32102  /Users/laura/Downloads/concerete_crack_images/...  NEGATIVE\n",
       "32103  /Users/laura/Downloads/concerete_crack_images/...  POSITIVE\n",
       "32104  /Users/laura/Downloads/concerete_crack_images/...  POSITIVE\n",
       "32105  /Users/laura/Downloads/concerete_crack_images/...  POSITIVE\n",
       "32106  /Users/laura/Downloads/concerete_crack_images/...  NEGATIVE\n",
       "\n",
       "[32107 rows x 2 columns]"
      ]
     },
     "execution_count": 13,
     "metadata": {},
     "output_type": "execute_result"
    }
   ],
   "source": [
    "positive_df = generate_df(positive_dir, label=\"POSITIVE\")\n",
    "negative_df = generate_df(negative_dir, label=\"NEGATIVE\")\n",
    "\n",
    "df = pd.concat([positive_df, negative_df], axis=0).sample(frac=1.0, random_state=1).reset_index(drop=True)\n",
    "df"
   ]
  },
  {
   "cell_type": "markdown",
   "metadata": {},
   "source": [
    "---test1---"
   ]
  },
  {
   "cell_type": "code",
   "execution_count": 6,
   "metadata": {},
   "outputs": [
    {
     "name": "stdout",
     "output_type": "stream",
     "text": [
      "Downloading data from https://storage.googleapis.com/tensorflow/keras-applications/resnet/resnet50_weights_tf_dim_ordering_tf_kernels_notop.h5\n",
      "94765736/94765736 [==============================] - 6s 0us/step\n"
     ]
    },
    {
     "name": "stderr",
     "output_type": "stream",
     "text": [
      "WARNING:absl:At this time, the v2.11+ optimizer `tf.keras.optimizers.Adam` runs slowly on M1/M2 Macs, please use the legacy Keras optimizer instead, located at `tf.keras.optimizers.legacy.Adam`.\n"
     ]
    }
   ],
   "source": [
    "import tensorflow as tf\n",
    "from tensorflow.keras.models import Model\n",
    "from tensorflow.keras import layers\n",
    "from tensorflow.keras.applications.resnet import ResNet50, preprocess_input\n",
    "from tensorflow.keras.optimizers import Adam\n",
    "img_size = 150\n",
    "model_name = 'ResNet50'\n",
    "\n",
    "\n",
    "pre_model = ResNet50(weights='imagenet', include_top=False,\n",
    "                   input_shape=(img_size, img_size, 3))\n",
    "\n",
    "pre_model.trainable = False\n",
    "\n",
    "x = layers.GlobalAveragePooling2D()(pre_model.output)\n",
    "\n",
    "outputs = layers.Dense(1, activation='sigmoid')(x)\n",
    "model = Model(inputs=pre_model.inputs, outputs=outputs)\n",
    "\n",
    "optimizer = Adam(learning_rate=0.001)\n",
    "\n",
    "model.compile(loss='binary_crossentropy',\n",
    "              optimizer=optimizer,\n",
    "              metrics=['accuracy'])"
   ]
  },
  {
   "cell_type": "code",
   "execution_count": 2,
   "metadata": {},
   "outputs": [],
   "source": [
    "import tensorflow as tf\n",
    "from tensorflow.keras.models import Model\n",
    "from tensorflow.keras import layers\n",
    "from tensorflow.keras.applications.resnet import ResNet50, preprocess_input\n",
    "from tensorflow.keras.optimizers import Adam\n",
    "\n",
    "from tensorflow.keras.preprocessing.image import ImageDataGenerator\n",
    "\n",
    "\n",
    "train_datagen = ImageDataGenerator(\n",
    "               width_shift_range=0.1,  \n",
    "               height_shift_range=0.1,  \n",
    "               horizontal_flip=True,  \n",
    "               preprocessing_function=preprocess_input,  \n",
    "               validation_split=0.01  \n",
    "              )\n",
    "\n",
    "validation_datagen = ImageDataGenerator(preprocessing_function=preprocess_input, validation_split=0.01)"
   ]
  },
  {
   "cell_type": "code",
   "execution_count": 4,
   "metadata": {},
   "outputs": [
    {
     "name": "stdout",
     "output_type": "stream",
     "text": [
      "Found 39601 images belonging to 2 classes.\n",
      "Found 399 images belonging to 2 classes.\n"
     ]
    }
   ],
   "source": [
    "\n",
    "img_shape = (227, 227)\n",
    "\n",
    "\n",
    "train_generator = train_datagen.flow_from_directory(\n",
    "                 '/Users/laura/Downloads/concerete_crack_images',\n",
    "                 target_size=(227, 227),  \n",
    "                 batch_size=64,  \n",
    "                 shuffle=True,  \n",
    "                 class_mode='binary',  \n",
    "                 subset='training')  \n",
    "\n",
    "validation_generator =  validation_datagen.flow_from_directory(\n",
    "                        '/Users/laura/Downloads/concerete_crack_images',\n",
    "                        target_size=(227, 227),  \n",
    "                        batch_size=64,  \n",
    "                        class_mode='binary',  \n",
    "                        subset='validation')  "
   ]
  },
  {
   "cell_type": "code",
   "execution_count": 7,
   "metadata": {},
   "outputs": [
    {
     "name": "stdout",
     "output_type": "stream",
     "text": [
      "Epoch 1/3\n",
      "619/619 [==============================] - 1822s 3s/step - loss: 0.5128 - accuracy: 0.8013 - val_loss: 0.5062 - val_accuracy: 0.8045\n",
      "Epoch 2/3\n",
      "619/619 [==============================] - 1944s 3s/step - loss: 0.5061 - accuracy: 0.8027 - val_loss: 0.5064 - val_accuracy: 0.8045\n",
      "Epoch 3/3\n",
      "619/619 [==============================] - 1498s 2s/step - loss: 0.5049 - accuracy: 0.8026 - val_loss: 0.5116 - val_accuracy: 0.8045\n"
     ]
    },
    {
     "data": {
      "text/plain": [
       "<keras.src.callbacks.History at 0x28bebd290>"
      ]
     },
     "execution_count": 7,
     "metadata": {},
     "output_type": "execute_result"
    }
   ],
   "source": [
    "\n",
    "model.fit(train_generator,\n",
    "          epochs=3,\n",
    "          validation_data=validation_generator)"
   ]
  },
  {
   "cell_type": "markdown",
   "metadata": {},
   "source": [
    "---test1---"
   ]
  },
  {
   "cell_type": "code",
   "execution_count": 14,
   "metadata": {},
   "outputs": [
    {
     "name": "stdout",
     "output_type": "stream",
     "text": [
      "Found 17980 validated image filenames belonging to 2 classes.\n",
      "Found 4494 validated image filenames belonging to 2 classes.\n",
      "Found 9633 validated image filenames belonging to 2 classes.\n"
     ]
    }
   ],
   "source": [
    "train_df, test_df = train_test_split(df,train_size=0.7,shuffle=True,random_state=100)\n",
    "train_gen = tf.keras.preprocessing.image.ImageDataGenerator(rescale=1./255,validation_split=0.2)\n",
    "test_gen = tf.keras.preprocessing.image.ImageDataGenerator(rescale=1./255)\n",
    "\n",
    "train_data = train_gen.flow_from_dataframe(\n",
    "    train_df,\n",
    "    x_col='Filepath',\n",
    "    y_col='Label',\n",
    "    target_size=(227, 227),\n",
    "    color_mode='rgb',\n",
    "    class_mode='binary',\n",
    "    batch_size=32,\n",
    "    shuffle=True,\n",
    "    seed=42,\n",
    "    subset='training')\n",
    "\n",
    "val_data = train_gen.flow_from_dataframe(\n",
    "    train_df,\n",
    "    x_col='Filepath',\n",
    "    y_col='Label',\n",
    "    target_size=(227, 227),\n",
    "    color_mode='rgb',\n",
    "    class_mode='binary',\n",
    "    batch_size=32,\n",
    "    shuffle=True,\n",
    "    seed=42,\n",
    "    subset='validation')\n",
    "\n",
    "test_data = train_gen.flow_from_dataframe(\n",
    "    test_df,\n",
    "    x_col='Filepath',\n",
    "    y_col='Label',\n",
    "    target_size=(227, 227),\n",
    "    color_mode='rgb',\n",
    "    class_mode='binary',\n",
    "    batch_size=32,\n",
    "    shuffle=False,\n",
    "    seed=42)\n"
   ]
  },
  {
   "cell_type": "code",
   "execution_count": 15,
   "metadata": {},
   "outputs": [
    {
     "name": "stdout",
     "output_type": "stream",
     "text": [
      "Model: \"model_1\"\n",
      "_________________________________________________________________\n",
      " Layer (type)                Output Shape              Param #   \n",
      "=================================================================\n",
      " input_2 (InputLayer)        [(None, 227, 227, 3)]     0         \n",
      "                                                                 \n",
      " conv2d_2 (Conv2D)           (None, 225, 225, 16)      448       \n",
      "                                                                 \n",
      " max_pooling2d_2 (MaxPoolin  (None, 112, 112, 16)      0         \n",
      " g2D)                                                            \n",
      "                                                                 \n",
      " conv2d_3 (Conv2D)           (None, 110, 110, 32)      4640      \n",
      "                                                                 \n",
      " max_pooling2d_3 (MaxPoolin  (None, 55, 55, 32)        0         \n",
      " g2D)                                                            \n",
      "                                                                 \n",
      " global_average_pooling2d_1  (None, 32)                0         \n",
      "  (GlobalAveragePooling2D)                                       \n",
      "                                                                 \n",
      " dense_1 (Dense)             (None, 1)                 33        \n",
      "                                                                 \n",
      "=================================================================\n",
      "Total params: 5121 (20.00 KB)\n",
      "Trainable params: 5121 (20.00 KB)\n",
      "Non-trainable params: 0 (0.00 Byte)\n",
      "_________________________________________________________________\n",
      "None\n"
     ]
    }
   ],
   "source": [
    "inputs = tf.keras.Input(shape=(227, 227, 3))\n",
    "x = tf.keras.layers.Conv2D(filters=16, kernel_size=(3, 3), activation='relu')(inputs)\n",
    "x = tf.keras.layers.MaxPool2D(pool_size=(2, 2))(x)\n",
    "x = tf.keras.layers.Conv2D(filters=32, kernel_size=(3, 3), activation='relu')(x)\n",
    "x = tf.keras.layers.MaxPool2D(pool_size=(2, 2))(x)\n",
    "x = tf.keras.layers.GlobalAveragePooling2D()(x)\n",
    "outputs = tf.keras.layers.Dense(1, activation='sigmoid')(x)\n",
    "\n",
    "model = tf.keras.Model(inputs=inputs, outputs=outputs)\n",
    "\n",
    "model.compile(\n",
    "    optimizer='adam',\n",
    "    loss='binary_crossentropy',\n",
    "    metrics=['accuracy'])\n",
    "print(model.summary())"
   ]
  },
  {
   "cell_type": "code",
   "execution_count": 16,
   "metadata": {},
   "outputs": [
    {
     "name": "stdout",
     "output_type": "stream",
     "text": [
      "Epoch 1/10\n",
      "562/562 [==============================] - 139s 247ms/step - loss: 0.5999 - accuracy: 0.6981 - val_loss: 0.4469 - val_accuracy: 0.8718\n",
      "Epoch 2/10\n",
      "562/562 [==============================] - 135s 240ms/step - loss: 0.3112 - accuracy: 0.9162 - val_loss: 0.2226 - val_accuracy: 0.9359\n",
      "Epoch 3/10\n",
      "562/562 [==============================] - 120s 214ms/step - loss: 0.1986 - accuracy: 0.9445 - val_loss: 0.1743 - val_accuracy: 0.9417\n",
      "Epoch 4/10\n",
      "562/562 [==============================] - 120s 214ms/step - loss: 0.1599 - accuracy: 0.9555 - val_loss: 0.1414 - val_accuracy: 0.9626\n",
      "Epoch 5/10\n",
      "562/562 [==============================] - 123s 219ms/step - loss: 0.1422 - accuracy: 0.9592 - val_loss: 0.1243 - val_accuracy: 0.9608\n",
      "Epoch 6/10\n",
      "562/562 [==============================] - 129s 229ms/step - loss: 0.1231 - accuracy: 0.9657 - val_loss: 0.1454 - val_accuracy: 0.9637\n",
      "Epoch 7/10\n",
      "562/562 [==============================] - 129s 230ms/step - loss: 0.1197 - accuracy: 0.9674 - val_loss: 0.1011 - val_accuracy: 0.9688\n",
      "Epoch 8/10\n",
      "562/562 [==============================] - 131s 233ms/step - loss: 0.1102 - accuracy: 0.9686 - val_loss: 0.1052 - val_accuracy: 0.9742\n",
      "Epoch 9/10\n",
      "562/562 [==============================] - 141s 252ms/step - loss: 0.1048 - accuracy: 0.9696 - val_loss: 0.1012 - val_accuracy: 0.9715\n",
      "Epoch 10/10\n",
      "562/562 [==============================] - 135s 240ms/step - loss: 0.0988 - accuracy: 0.9701 - val_loss: 0.1309 - val_accuracy: 0.9499\n"
     ]
    }
   ],
   "source": [
    "history = model.fit(train_data,validation_data=val_data,epochs=10,\n",
    "            callbacks=[tf.keras.callbacks.EarlyStopping(\n",
    "            monitor='val_loss',\n",
    "            patience=3,\n",
    "            restore_best_weights=True)])"
   ]
  },
  {
   "cell_type": "code",
   "execution_count": 17,
   "metadata": {},
   "outputs": [
    {
     "name": "stdout",
     "output_type": "stream",
     "text": [
      "302/302 [==============================] - 22s 71ms/step\n"
     ]
    }
   ],
   "source": [
    "\n",
    "predictions = model.predict(test_data)\n",
    "\n",
    "binary_predictions = (predictions > 0.5).astype(int)\n",
    "\n",
    "submission_df = pd.DataFrame({'image_id': test_data.filenames, 'predicted_class': binary_predictions.squeeze()})\n",
    "submission_df['image_id'] = submission_df['image_id'].apply(lambda x: x.split('/')[1])\n",
    "\n",
    "submission_df.to_csv('submission.csv', index=False)\n"
   ]
  }
 ],
 "metadata": {
  "kernelspec": {
   "display_name": "Python 3",
   "language": "python",
   "name": "python3"
  },
  "language_info": {
   "codemirror_mode": {
    "name": "ipython",
    "version": 3
   },
   "file_extension": ".py",
   "mimetype": "text/x-python",
   "name": "python",
   "nbconvert_exporter": "python",
   "pygments_lexer": "ipython3",
   "version": "3.11.6"
  }
 },
 "nbformat": 4,
 "nbformat_minor": 2
}
